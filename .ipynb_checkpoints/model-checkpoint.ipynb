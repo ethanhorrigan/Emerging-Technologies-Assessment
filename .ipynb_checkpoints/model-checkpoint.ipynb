{
 "cells": [
  {
   "cell_type": "markdown",
   "metadata": {},
   "source": [
    "### Author: Ethan Horrigan\n",
    "### Description: This Notebook uses Convolutional Neural Networks (CNN) to classify handwritten digits as numbers 0 - 9"
   ]
  },
  {
   "cell_type": "markdown",
   "metadata": {},
   "source": [
    "## Imports"
   ]
  },
  {
   "cell_type": "code",
   "execution_count": 1,
   "metadata": {
    "scrolled": true
   },
   "outputs": [
    {
     "name": "stderr",
     "output_type": "stream",
     "text": [
      "Using TensorFlow backend.\n"
     ]
    }
   ],
   "source": [
    "# Matplotlib to plot copies of the Train Images\n",
    "import matplotlib.pyplot as plt\n",
    "import numpy as np\n",
    "from keras.datasets import mnist\n",
    "import keras as kr\n",
    "from keras.datasets import mnist\n",
    "from keras.models import Sequential, load_model\n",
    "from keras.layers.core import Activation, Dense, Dropout\n",
    "from keras.layers import Conv2D, MaxPooling2D, Flatten, BatchNormalization\n",
    "# imports for array-handling and plotting\n",
    "from keras.utils import np_utils"
   ]
  },
  {
   "cell_type": "markdown",
   "metadata": {},
   "source": [
    "### Initially I was using a downloaded dataset & gzip to open the dataset, but I opted for the keras.datasets instead as this was more efficient\n",
    "### This dataset is made up of images of handwritten digits, 28x28 pixels in size.\n",
    "### load the MNIST dataset and split into (train & test sets) (Dataset of 60,000 28x28 grayscale images of the 10 digits, along with a test set of 10,000 images.)\n",
    "### returns:\n",
    "### x_train, x_test: uint8 array of grayscale image data with shape (num_samples, 28, 28).\n",
    "### y_train, y_test: uint8 array of digit labels (integers in range 0-9) with shape (num_samples,)."
   ]
  },
  {
   "cell_type": "code",
   "execution_count": 2,
   "metadata": {},
   "outputs": [],
   "source": [
    "(X_train,Y_train), (X_test, Y_test) = mnist.load_data()"
   ]
  },
  {
   "cell_type": "markdown",
   "metadata": {},
   "source": [
    "### Viewing the Dataset"
   ]
  },
  {
   "cell_type": "code",
   "execution_count": 3,
   "metadata": {},
   "outputs": [
    {
     "data": {
      "image/png": "[encoded data removed]",
      "text/plain": [
       "<Figure size 432x288 with 9 Axes>"
      ]
     },
     "metadata": {},
     "output_type": "display_data"
    }
   ],
   "source": [
    "fig = plt.figure()\n",
    "for i in range(9):\n",
    "  plt.subplot(3,3,i+1)\n",
    "  plt.tight_layout()\n",
    "  plt.imshow(X_train[i], cmap='gray', interpolation='none')\n",
    "  plt.title(\"Digit: {}\".format(Y_train[i]))\n",
    "  plt.xticks([])\n",
    "  plt.yticks([])"
   ]
  },
  {
   "cell_type": "code",
   "execution_count": 4,
   "metadata": {},
   "outputs": [],
   "source": [
    "# To train the Neural Network to recognize images \n",
    "# I’ll make the Height by Width format into one vector (Input Vector) \n",
    "# Length = 28 x 28 = 784"
   ]
  },
  {
   "cell_type": "markdown",
   "metadata": {},
   "source": [
    "### Viewing the Pixel Range from 0 - 255"
   ]
  },
  {
   "cell_type": "code",
   "execution_count": 5,
   "metadata": {},
   "outputs": [
    {
     "data": {
      "text/plain": [
       "Text(0.5, 1.0, 'Pixel Value Distribution')"
      ]
     },
     "execution_count": 5,
     "metadata": {},
     "output_type": "execute_result"
    },
    {
     "data": {
      "image/png": "[encoded data removed]",
      "text/plain": [
       "<Figure size 432x288 with 2 Axes>"
      ]
     },
     "metadata": {
      "needs_background": "light"
     },
     "output_type": "display_data"
    }
   ],
   "source": [
    "fig = plt.figure()\n",
    "plt.subplot(2,1,1)\n",
    "plt.imshow(X_train[6], cmap='gray', interpolation='none')\n",
    "plt.title(\"Digit: {}\".format(Y_train[6]))\n",
    "plt.xticks([])\n",
    "plt.yticks([])\n",
    "plt.subplot(2,1,2)\n",
    "plt.hist(X_train[6].reshape(784))\n",
    "plt.title(\"Pixel Value Distribution\")"
   ]
  },
  {
   "cell_type": "markdown",
   "metadata": {},
   "source": [
    "#### Normalizing the input data will speed up the training.\n",
    "#### It reduces the chance of getting stuck.\n",
    "#### In order to achieve this, I will reshape the inputs into a single vector. \n",
    "#### Then I will Normalize the pixel values between (0,1)."
   ]
  },
  {
   "cell_type": "code",
   "execution_count": 6,
   "metadata": {},
   "outputs": [],
   "source": [
    "# Build the input vector (from the 28x28)\n",
    "X_train = X_train.reshape(60000, 784)\n",
    "X_test = X_test.reshape(10000, 784)\n",
    "X_train = X_train.astype('float32')\n",
    "X_test = X_test.astype('float32')"
   ]
  },
  {
   "cell_type": "code",
   "execution_count": 7,
   "metadata": {},
   "outputs": [],
   "source": [
    "# normalizing the data to help with the training\n",
    "X_train /= 255\n",
    "X_test /= 255"
   ]
  },
  {
   "cell_type": "code",
   "execution_count": 8,
   "metadata": {},
   "outputs": [
    {
     "name": "stdout",
     "output_type": "stream",
     "text": [
      "Shape before one-hot encoding:  (60000,)\n",
      "Shape after one-hot encoding:  (60000, 10)\n"
     ]
    }
   ],
   "source": [
    "# one hot encode target values\n",
    "# https://hackernoon.com/what-is-one-hot-encoding-why-and-when-do-you-have-to-use-it-e3c6186d008f\n",
    "\n",
    "#number_of_categories = this is the possible amount of outputs\n",
    "number_of_categories = 10\n",
    "print(\"Shape before one-hot encoding: \", Y_train.shape)\n",
    "Y_train = np_utils.to_categorical(Y_train, number_of_categories)\n",
    "Y_test = np_utils.to_categorical(Y_test, number_of_categories)\n",
    "print(\"Shape after one-hot encoding: \", Y_train.shape)"
   ]
  },
  {
   "cell_type": "markdown",
   "metadata": {},
   "source": [
    "# Building the Model\n",
    "## The pixel vector I created earlier will serve as the input\n",
    "## Followed by Two hidden 512 Hidden-Node Layers\n",
    "## For classification, I'll add another fully-connected layer for the 10 possible output classes.\n",
    "## For this Network I will use the Keras Sequential Model : https://keras.io/models/sequential/"
   ]
  },
  {
   "cell_type": "code",
   "execution_count": 9,
   "metadata": {},
   "outputs": [
    {
     "name": "stdout",
     "output_type": "stream",
     "text": [
      "WARNING:tensorflow:From D:\\Anaconda\\lib\\site-packages\\keras\\backend\\tensorflow_backend.py:74: The name tf.get_default_graph is deprecated. Please use tf.compat.v1.get_default_graph instead.\n",
      "\n",
      "WARNING:tensorflow:From D:\\Anaconda\\lib\\site-packages\\keras\\backend\\tensorflow_backend.py:517: The name tf.placeholder is deprecated. Please use tf.compat.v1.placeholder instead.\n",
      "\n",
      "WARNING:tensorflow:From D:\\Anaconda\\lib\\site-packages\\keras\\backend\\tensorflow_backend.py:4138: The name tf.random_uniform is deprecated. Please use tf.random.uniform instead.\n",
      "\n",
      "WARNING:tensorflow:From D:\\Anaconda\\lib\\site-packages\\keras\\backend\\tensorflow_backend.py:133: The name tf.placeholder_with_default is deprecated. Please use tf.compat.v1.placeholder_with_default instead.\n",
      "\n",
      "WARNING:tensorflow:From D:\\Anaconda\\lib\\site-packages\\keras\\backend\\tensorflow_backend.py:3445: calling dropout (from tensorflow.python.ops.nn_ops) with keep_prob is deprecated and will be removed in a future version.\n",
      "Instructions for updating:\n",
      "Please use `rate` instead of `keep_prob`. Rate should be set to `rate = 1 - keep_prob`.\n"
     ]
    }
   ],
   "source": [
    "# Declare the Model\n",
    "model = Sequential()\n",
    "model.add(Dense(512, input_shape=(784,)))\n",
    "model.add(Activation('relu'))\n",
    "model.add(Dropout(0.2))\n",
    "model.add(BatchNormalization())\n",
    "\n",
    "model.add(Dense(512))\n",
    "model.add(Activation('relu'))\n",
    "model.add(Dropout(0.2))\n",
    "\n",
    "model.add(BatchNormalization())\n",
    "model.add(Dense(10))\n",
    "model.add(Activation('softmax'))"
   ]
  },
  {
   "cell_type": "code",
   "execution_count": 10,
   "metadata": {},
   "outputs": [],
   "source": [
    "## Compiling the Model\n",
    "## Optimizers: https://keras.io/optimizers/\n",
    "\n",
    "## Optimzer options : Adam or Adadelta?\n",
    "## Adam\n",
    "## An algorithm for first-order gradient-based optimization of stochastic objective functions.\n",
    "## The method is straightforward to implement, is computationally efficient, has little memory requirements, \n",
    "## Well suited for problems that are large in terms of data and/or parameters.\n",
    "\n",
    "## Adadelta\n",
    "## Per-dimension learning rate method for gradient descent.\n",
    "## We show promising results compared to other \n",
    "## methods on the MNIST digit classification task using a single machine and on a large scale voice dataset in a distributed cluster environment."
   ]
  },
  {
   "cell_type": "markdown",
   "metadata": {},
   "source": [
    "# Which Optimizer?\n",
    "## I chose Adam after reading this article: https://medium.com/octavian-ai/which-optimizer-and-learning-rate-should-i-use-for-deep-learning-5acb418f9b2\n",
    "## - Adam learns the fastest.\n",
    "## - Adam is more stable than the other optimizers, it doesn’t suffer any major decreases in accuracy."
   ]
  },
  {
   "cell_type": "code",
   "execution_count": 11,
   "metadata": {},
   "outputs": [
    {
     "name": "stdout",
     "output_type": "stream",
     "text": [
      "WARNING:tensorflow:From D:\\Anaconda\\lib\\site-packages\\keras\\optimizers.py:790: The name tf.train.Optimizer is deprecated. Please use tf.compat.v1.train.Optimizer instead.\n",
      "\n",
      "WARNING:tensorflow:From D:\\Anaconda\\lib\\site-packages\\keras\\backend\\tensorflow_backend.py:3295: The name tf.log is deprecated. Please use tf.math.log instead.\n",
      "\n"
     ]
    }
   ],
   "source": [
    "# model.compile(loss='categorical_crossentropy',metrics=['accuracy'], optimizer='Adadelta')\n",
    "model.compile(loss='categorical_crossentropy',metrics=['accuracy'], optimizer=kr.optimizers.Adam())"
   ]
  },
  {
   "cell_type": "markdown",
   "metadata": {},
   "source": [
    "# Training the Model"
   ]
  },
  {
   "cell_type": "code",
   "execution_count": 12,
   "metadata": {},
   "outputs": [],
   "source": [
    "# 1] Specify how many times to iterate on the whole training set (epochs) \n",
    "# 2] How many samples we use for one update to the model's weights (batch size). \n",
    "# Generally the bigger the batch, the more stable our stochastic gradient descent updates will be\n",
    "\n",
    "# I will try 20 epochs to start."
   ]
  },
  {
   "cell_type": "code",
   "execution_count": 13,
   "metadata": {},
   "outputs": [
    {
     "name": "stdout",
     "output_type": "stream",
     "text": [
      "WARNING:tensorflow:From D:\\Anaconda\\lib\\site-packages\\tensorflow_core\\python\\ops\\math_grad.py:1424: where (from tensorflow.python.ops.array_ops) is deprecated and will be removed in a future version.\n",
      "Instructions for updating:\n",
      "Use tf.where in 2.0, which has the same broadcast rule as np.where\n",
      "WARNING:tensorflow:From D:\\Anaconda\\lib\\site-packages\\keras\\backend\\tensorflow_backend.py:986: The name tf.assign_add is deprecated. Please use tf.compat.v1.assign_add instead.\n",
      "\n",
      "WARNING:tensorflow:From D:\\Anaconda\\lib\\site-packages\\keras\\backend\\tensorflow_backend.py:973: The name tf.assign is deprecated. Please use tf.compat.v1.assign instead.\n",
      "\n",
      "WARNING:tensorflow:From D:\\Anaconda\\lib\\site-packages\\keras\\backend\\tensorflow_backend.py:2741: The name tf.Session is deprecated. Please use tf.compat.v1.Session instead.\n",
      "\n",
      "Train on 60000 samples, validate on 10000 samples\n",
      "Epoch 1/10\n",
      "WARNING:tensorflow:From D:\\Anaconda\\lib\\site-packages\\keras\\backend\\tensorflow_backend.py:174: The name tf.get_default_session is deprecated. Please use tf.compat.v1.get_default_session instead.\n",
      "\n",
      "WARNING:tensorflow:From D:\\Anaconda\\lib\\site-packages\\keras\\backend\\tensorflow_backend.py:181: The name tf.ConfigProto is deprecated. Please use tf.compat.v1.ConfigProto instead.\n",
      "\n",
      "WARNING:tensorflow:From D:\\Anaconda\\lib\\site-packages\\keras\\backend\\tensorflow_backend.py:190: The name tf.global_variables is deprecated. Please use tf.compat.v1.global_variables instead.\n",
      "\n",
      "WARNING:tensorflow:From D:\\Anaconda\\lib\\site-packages\\keras\\backend\\tensorflow_backend.py:199: The name tf.is_variable_initialized is deprecated. Please use tf.compat.v1.is_variable_initialized instead.\n",
      "\n",
      "WARNING:tensorflow:From D:\\Anaconda\\lib\\site-packages\\keras\\backend\\tensorflow_backend.py:206: The name tf.variables_initializer is deprecated. Please use tf.compat.v1.variables_initializer instead.\n",
      "\n",
      " - 32s - loss: 0.2283 - acc: 0.9307 - val_loss: 0.0995 - val_acc: 0.9697\n",
      "Epoch 2/10\n",
      " - 28s - loss: 0.1033 - acc: 0.9678 - val_loss: 0.0826 - val_acc: 0.9752\n",
      "Epoch 3/10\n",
      " - 25s - loss: 0.0801 - acc: 0.9741 - val_loss: 0.0889 - val_acc: 0.9728\n",
      "Epoch 4/10\n",
      " - 29s - loss: 0.0641 - acc: 0.9790 - val_loss: 0.0730 - val_acc: 0.9778\n",
      "Epoch 5/10\n",
      " - 31s - loss: 0.0533 - acc: 0.9825 - val_loss: 0.0750 - val_acc: 0.9772\n",
      "Epoch 6/10\n",
      " - 30s - loss: 0.0480 - acc: 0.9848 - val_loss: 0.0664 - val_acc: 0.9804\n",
      "Epoch 7/10\n",
      " - 31s - loss: 0.0415 - acc: 0.9862 - val_loss: 0.0700 - val_acc: 0.9786\n",
      "Epoch 8/10\n",
      " - 30s - loss: 0.0411 - acc: 0.9862 - val_loss: 0.0611 - val_acc: 0.9817\n",
      "Epoch 9/10\n",
      " - 28s - loss: 0.0379 - acc: 0.9871 - val_loss: 0.0614 - val_acc: 0.9820\n",
      "Epoch 10/10\n",
      " - 28s - loss: 0.0368 - acc: 0.9881 - val_loss: 0.0631 - val_acc: 0.9828\n",
      "> %.3f [0.0631478641907539, 0.9828, 0.0631478641907539, 0.9828, 0.0631478641907539, 0.9828, 0.0631478641907539, 0.9828, 0.0631478641907539, 0.9828, 0.0631478641907539, 0.9828, 0.0631478641907539, 0.9828, 0.0631478641907539, 0.9828, 0.0631478641907539, 0.9828, 0.0631478641907539, 0.9828, 0.0631478641907539, 0.9828, 0.0631478641907539, 0.9828, 0.0631478641907539, 0.9828, 0.0631478641907539, 0.9828, 0.0631478641907539, 0.9828, 0.0631478641907539, 0.9828, 0.0631478641907539, 0.9828, 0.0631478641907539, 0.9828, 0.0631478641907539, 0.9828, 0.0631478641907539, 0.9828, 0.0631478641907539, 0.9828, 0.0631478641907539, 0.9828, 0.0631478641907539, 0.9828, 0.0631478641907539, 0.9828, 0.0631478641907539, 0.9828, 0.0631478641907539, 0.9828, 0.0631478641907539, 0.9828, 0.0631478641907539, 0.9828, 0.0631478641907539, 0.9828, 0.0631478641907539, 0.9828, 0.0631478641907539, 0.9828, 0.0631478641907539, 0.9828, 0.0631478641907539, 0.9828, 0.0631478641907539, 0.9828, 0.0631478641907539, 0.9828, 0.0631478641907539, 0.9828, 0.0631478641907539, 0.9828, 0.0631478641907539, 0.9828, 0.0631478641907539, 0.9828, 0.0631478641907539, 0.9828, 0.0631478641907539, 0.9828, 0.0631478641907539, 0.9828, 0.0631478641907539, 0.9828, 0.0631478641907539, 0.9828, 0.0631478641907539, 0.9828, 0.0631478641907539, 0.9828, 0.0631478641907539, 0.9828, 0.0631478641907539, 0.9828, 0.0631478641907539, 0.9828, 0.0631478641907539, 0.9828, 0.0631478641907539, 0.9828, 0.0631478641907539, 0.9828, 0.0631478641907539, 0.9828, 0.0631478641907539, 0.9828, 0.0631478641907539, 0.9828, 0.0631478641907539, 0.9828, 0.0631478641907539, 0.9828, 0.0631478641907539, 0.9828, 0.0631478641907539, 0.9828, 0.0631478641907539, 0.9828, 0.0631478641907539, 0.9828, 0.0631478641907539, 0.9828, 0.0631478641907539, 0.9828, 0.0631478641907539, 0.9828, 0.0631478641907539, 0.9828, 0.0631478641907539, 0.9828, 0.0631478641907539, 0.9828, 0.0631478641907539, 0.9828, 0.0631478641907539, 0.9828, 0.0631478641907539, 0.9828, 0.0631478641907539, 0.9828, 0.0631478641907539, 0.9828, 0.0631478641907539, 0.9828, 0.0631478641907539, 0.9828, 0.0631478641907539, 0.9828, 0.0631478641907539, 0.9828, 0.0631478641907539, 0.9828, 0.0631478641907539, 0.9828, 0.0631478641907539, 0.9828, 0.0631478641907539, 0.9828, 0.0631478641907539, 0.9828, 0.0631478641907539, 0.9828, 0.0631478641907539, 0.9828, 0.0631478641907539, 0.9828, 0.0631478641907539, 0.9828, 0.0631478641907539, 0.9828, 0.0631478641907539, 0.9828, 0.0631478641907539, 0.9828, 0.0631478641907539, 0.9828, 0.0631478641907539, 0.9828, 0.0631478641907539, 0.9828, 0.0631478641907539, 0.9828, 0.0631478641907539, 0.9828, 0.0631478641907539, 0.9828, 0.0631478641907539, 0.9828, 0.0631478641907539, 0.9828, 0.0631478641907539, 0.9828, 0.0631478641907539, 0.9828, 0.0631478641907539, 0.9828, 0.0631478641907539, 0.9828]\n"
     ]
    }
   ],
   "source": [
    " history = model.fit(X_train, Y_train,batch_size=128, epochs=10,verbose=2,validation_data=(X_test, Y_test))\n",
    "# evaluate model"
   ]
  },
  {
   "cell_type": "markdown",
   "metadata": {},
   "source": [
    "## Saving the Model"
   ]
  },
  {
   "cell_type": "code",
   "execution_count": 14,
   "metadata": {},
   "outputs": [],
   "source": [
    "model.save(\"model.h5\")"
   ]
  },
  {
   "cell_type": "markdown",
   "metadata": {},
   "source": [
    "## Viewing the Accuracy"
   ]
  },
  {
   "cell_type": "code",
   "execution_count": 15,
   "metadata": {},
   "outputs": [
    {
     "data": {
      "text/plain": [
       "<matplotlib.legend.Legend at 0x1bd5fa89588>"
      ]
     },
     "execution_count": 15,
     "metadata": {},
     "output_type": "execute_result"
    },
    {
     "data": {
      "image/png": "[encoded data removed]",
      "text/plain": [
       "<Figure size 432x288 with 1 Axes>"
      ]
     },
     "metadata": {
      "needs_background": "light"
     },
     "output_type": "display_data"
    }
   ],
   "source": [
    "fig = plt.figure()\n",
    "plt.subplot(2,1,1)\n",
    "plt.plot(history.history['acc'])\n",
    "plt.plot(history.history['val_acc'])\n",
    "plt.title('model accuracy')\n",
    "plt.ylabel('accuracy')\n",
    "plt.xlabel('epoch')\n",
    "plt.legend(['train', 'test'], loc='lower right')"
   ]
  },
  {
   "cell_type": "markdown",
   "metadata": {},
   "source": [
    "# Viewing the Loss"
   ]
  },
  {
   "cell_type": "code",
   "execution_count": 16,
   "metadata": {},
   "outputs": [
    {
     "data": {
      "text/plain": [
       "<matplotlib.legend.Legend at 0x1bd5fca1e10>"
      ]
     },
     "execution_count": 16,
     "metadata": {},
     "output_type": "execute_result"
    },
    {
     "data": {
      "image/png": "[encoded data removed]",
      "text/plain": [
       "<Figure size 432x288 with 1 Axes>"
      ]
     },
     "metadata": {
      "needs_background": "light"
     },
     "output_type": "display_data"
    }
   ],
   "source": [
    "fig = plt.figure()\n",
    "plt.subplot(2,1,2)\n",
    "plt.plot(history.history['loss'])\n",
    "plt.plot(history.history['val_loss'])\n",
    "plt.title('model loss')\n",
    "plt.ylabel('loss')\n",
    "plt.xlabel('epoch')\n",
    "plt.legend(['train', 'test'], loc='upper right')"
   ]
  }
 ],
 "metadata": {
  "kernelspec": {
   "display_name": "Python 3",
   "language": "python",
   "name": "python3"
  },
  "language_info": {
   "codemirror_mode": {
    "name": "ipython",
    "version": 3
   },
   "file_extension": ".py",
   "mimetype": "text/x-python",
   "name": "python",
   "nbconvert_exporter": "python",
   "pygments_lexer": "ipython3",
   "version": "3.7.3"
  }
 },
 "nbformat": 4,
 "nbformat_minor": 4
}
